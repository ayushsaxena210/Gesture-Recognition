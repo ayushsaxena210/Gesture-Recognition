{
 "cells": [
  {
   "cell_type": "markdown",
   "metadata": {},
   "source": [
    "# Gesture Recognition\n",
    "In this group project, you are going to build a 3D Conv model that will be able to predict the 5 gestures correctly. Please import the following libraries to get started."
   ]
  },
  {
   "cell_type": "code",
   "execution_count": 18,
   "metadata": {
    "scrolled": true
   },
   "outputs": [],
   "source": [
    "import numpy as np\n",
    "import os\n",
    "#from scipy.misc import imread, imresize\n",
    "from imageio import imread\n",
    "import datetime\n",
    "import os\n",
    "from PIL import Image, ImageFilter, ImageEnhance\n",
    "import matplotlib.pyplot as plt\n",
    "%matplotlib inline\n",
    "import warnings\n",
    "warnings.filterwarnings(\"ignore\")\n",
    "\n",
    "from skimage.transform import resize as imresize"
   ]
  },
  {
   "cell_type": "markdown",
   "metadata": {},
   "source": [
    "\n",
    "We set the random seed so that the results don't vary drastically."
   ]
  },
  {
   "cell_type": "code",
   "execution_count": 19,
   "metadata": {},
   "outputs": [],
   "source": [
    "np.random.seed(30)\n",
    "import random as rn\n",
    "rn.seed(30)\n",
    "from keras import backend as K\n",
    "import tensorflow as tf\n",
    "#tf.set_random_seed(30)\n",
    "tf.random.set_seed(30)"
   ]
  },
  {
   "cell_type": "code",
   "execution_count": 20,
   "metadata": {},
   "outputs": [
    {
     "data": {
      "text/plain": [
       "'2.12.0'"
      ]
     },
     "execution_count": 20,
     "metadata": {},
     "output_type": "execute_result"
    }
   ],
   "source": [
    "tf.__version__"
   ]
  },
  {
   "cell_type": "markdown",
   "metadata": {},
   "source": [
    "In this block, you read the folder names for training and validation. You also set the `batch_size` here. Note that you set the batch size in such a way that you are able to use the GPU in full capacity. You keep increasing the batch size until the machine throws an error."
   ]
  },
  {
   "cell_type": "code",
   "execution_count": 21,
   "metadata": {},
   "outputs": [],
   "source": [
    "train_doc = np.random.permutation(open('Project_data/train.csv').readlines())\n",
    "val_doc = np.random.permutation(open('Project_data/val.csv').readlines())\n",
    "batch_size = 64 #experiment with the batch size"
   ]
  },
  {
   "cell_type": "markdown",
   "metadata": {},
   "source": [
    "## Generator\n",
    "This is one of the most important part of the code. The overall structure of the generator has been given. In the generator, you are going to preprocess the images as you have images of 2 different dimensions as well as create a batch of video frames. You have to experiment with `img_idx`, `y`,`z` and normalization such that you get high accuracy."
   ]
  },
  {
   "cell_type": "code",
   "execution_count": 22,
   "metadata": {},
   "outputs": [],
   "source": [
    "def generator(source_path, folder_list, batch_size):\n",
    "    print( 'Source path = ', source_path, '; batch size =', batch_size)\n",
    "    img_idx = np.arange(0,30,3) #create a list of image numbers you want to use for a particular video\n",
    "    while True:\n",
    "        t = np.random.permutation(folder_list)\n",
    "        num_batches = len(folder_list)//batch_size # calculate the number of batches\n",
    "        for batch in range(num_batches): # we iterate over the number of batches\n",
    "            batch_data = np.zeros((batch_size,len(img_idx),50,50,3)) # x is the number of images you use for each video, (y,z) is the final size of the input images and 3 is the number of channels RGB\n",
    "            batch_labels = np.zeros((batch_size,5)) # batch_labels is the one hot representation of the output\n",
    "            for folder in range(batch_size): # iterate over the batch_size\n",
    "                imgs = os.listdir(source_path+'/'+ t[folder + (batch*batch_size)].split(';')[0]) # read all the images in the folder\n",
    "                for idx,item in enumerate(img_idx): #  Iterate iver the frames/images of a folder to read them in\n",
    "                    image = imread(source_path+'/'+ t[folder + (batch*batch_size)].strip().split(';')[0]+'/'+imgs[item]).astype(np.float32)\n",
    "                    \n",
    "                    #crop the images and resize them. Note that the images are of 2 different shape \n",
    "                    #and the conv3D will throw error if the inputs in a batch have different shapes\n",
    "                    \n",
    "                    image = imresize(image,(50,50))\n",
    "                    image = image - np.percentile(image,5)/ np.percentile(image,95) - np.percentile(image,5)\n",
    "                    batch_data[folder,idx,:,:,0] = image[:,:,0]\n",
    "                    batch_data[folder,idx,:,:,1] = image[:,:,1]\n",
    "                    batch_data[folder,idx,:,:,2] = image[:,:,2]\n",
    "                    \n",
    "                batch_labels[folder, int(t[folder + (batch*batch_size)].strip().split(';')[2])] = 1\n",
    "            yield batch_data, batch_labels #you yield the batch_data and the batch_labels, remember what does yield do\n",
    "        rem_image = len(folder_list)%batch_size\n",
    "        batch += 1\n",
    "        if(rem_image!=0):\n",
    "            batch_data = np.zeros((rem_image,len(img_idx),50,50,3)) # x is the number of images you use for each video, (y,z) is the final size of the input images and 3 is the number of channels RGB\n",
    "            batch_labels = np.zeros((rem_image,5)) # batch_labels is the one hot representation of the output\n",
    "            for folder in range(rem_image): # iterate over the batch_size\n",
    "                imgs = os.listdir(source_path+'/'+ t[folder + (batch*batch_size)].split(';')[0]) # read all the images in the folder\n",
    "                for idx,item in enumerate(img_idx): #  Iterate iver the frames/images of a folder to read them in\n",
    "                    image = imread(source_path+'/'+ t[folder + (batch*batch_size)].strip().split(';')[0]+'/'+imgs[item]).astype(np.float32)\n",
    "                    \n",
    "                    #crop the images and resize them. Note that the images are of 2 different shape \n",
    "                    #and the conv3D will throw error if the inputs in a batch have different shapes\n",
    "                   \n",
    "                    image = imresize(image,(50,50))\n",
    "                    image = image - np.percentile(image,5)/ np.percentile(image,95) - np.percentile(image,5)\n",
    "                    batch_data[folder,idx,:,:,0] = image[:,:,0]\n",
    "                    batch_data[folder,idx,:,:,1] = image[:,:,1]\n",
    "                    batch_data[folder,idx,:,:,2] = image[:,:,2]\n",
    "                    \n",
    "                batch_labels[folder, int(t[folder + (batch*batch_size)].strip().split(';')[2])] = 1\n",
    "            yield batch_data, batch_labels\n",
    "        "
   ]
  },
  {
   "cell_type": "markdown",
   "metadata": {},
   "source": [
    "Note here that a video is represented above in the generator as (number of images, height, width, number of channels). Take this into consideration while creating the model architecture."
   ]
  },
  {
   "cell_type": "code",
   "execution_count": 23,
   "metadata": {},
   "outputs": [
    {
     "name": "stdout",
     "output_type": "stream",
     "text": [
      "# training sequences = 663\n",
      "# validation sequences = 100\n",
      "# epochs = 50\n"
     ]
    }
   ],
   "source": [
    "curr_dt_time = datetime.datetime.now()\n",
    "train_path = 'Project_data/train'\n",
    "val_path = 'Project_data/val'\n",
    "num_train_sequences = len(train_doc)\n",
    "print('# training sequences =', num_train_sequences)\n",
    "num_val_sequences = len(val_doc)\n",
    "print('# validation sequences =', num_val_sequences)\n",
    "num_epochs = 50 # choose the number of epochs\n",
    "print ('# epochs =', num_epochs)"
   ]
  },
  {
   "cell_type": "code",
   "execution_count": 17,
   "metadata": {},
   "outputs": [
    {
     "name": "stdout",
     "output_type": "stream",
     "text": [
      "Source path =  Project_data/train ; batch size = 64\n"
     ]
    },
    {
     "data": {
      "image/png": "[encoded data removed]",
      "text/plain": [
       "<Figure size 432x288 with 10 Axes>"
      ]
     },
     "metadata": {
      "needs_background": "light"
     },
     "output_type": "display_data"
    },
    {
     "name": "stdout",
     "output_type": "stream",
     "text": [
      "Label: 0\n"
     ]
    }
   ],
   "source": [
    "#Testing generator function\n",
    "#test_gen = generator(train_path, train_doc, batch_size)\n",
    "#d = next(test_gen)[0]\n",
    "data_gen = generator(train_path, train_doc, batch_size)\n",
    "\n",
    "# Fetch a batch from the generator\n",
    "batch_data, batch_labels = next(data_gen)\n",
    "\n",
    "# Display the images from the first batch\n",
    "#for i in range(batch_size):\n",
    "for j in range(len(batch_data[0])):\n",
    "    plt.subplot(2, 5, j+1)\n",
    "    plt.imshow(batch_data[i, j].astype(np.uint8))\n",
    "    plt.axis('off')\n",
    "    plt.title(f'Frame {j+1}')\n",
    "\n",
    "plt.show()\n",
    "print(f'Label: {np.argmax(batch_labels[i])}')"
   ]
  },
  {
   "cell_type": "markdown",
   "metadata": {},
   "source": [
    "## Model\n",
    "Here you make the model using different functionalities that Keras provides. Remember to use `Conv3D` and `MaxPooling3D` and not `Conv2D` and `Maxpooling2D` for a 3D convolution model. You would want to use `TimeDistributed` while building a Conv2D + RNN model. Also remember that the last layer is the softmax. Design the network in such a way that the model is able to give good accuracy on the least number of parameters so that it can fit in the memory of the webcam."
   ]
  },
  {
   "cell_type": "code",
   "execution_count": 49,
   "metadata": {},
   "outputs": [],
   "source": [
    "from keras.models import Sequential, Model\n",
    "from keras.layers import Dense, LSTM, TimeDistributed, BatchNormalization, Activation, Dropout, GRU, Flatten, Bidirectional, GlobalAveragePooling2D, GlobalAveragePooling3D, ConvLSTM2D\n",
    "from keras.layers.convolutional import Conv2D, Conv3D, MaxPooling2D, MaxPooling3D\n",
    "from keras.regularizers import l2\n",
    "from keras.callbacks import ModelCheckpoint, ReduceLROnPlateau\n",
    "from keras import optimizers\n",
    "\n",
    "num_classes = 5\n",
    "seq_idx = range(7,26,2)\n",
    "dim_x, dim_y = 120, 120\n",
    "#input_shape=(10, 50, 50, 3)\n",
    "input_shape = (len(seq_idx), dim_x, dim_y, 3)"
   ]
  },
  {
   "cell_type": "code",
   "execution_count": 51,
   "metadata": {},
   "outputs": [],
   "source": [
    "### Experiment 2\n",
    "# model = Sequential()\n",
    "\n",
    "# model.add(Conv3D(32, kernel_size=3, activation='relu', input_shape=input_shape))\n",
    "# model.add(Conv3D(64, kernel_size=3, activation='relu'))\n",
    "# model.add(MaxPooling3D(pool_size=(2, 2, 2)))\n",
    "# model.add(BatchNormalization())\n",
    "# model.add(Dropout(0.2))\n",
    "\n",
    "# model.add(Conv3D(128, kernel_size=3, activation='relu'))\n",
    "# model.add(MaxPooling3D(pool_size=(1, 2, 2)))\n",
    "# model.add(BatchNormalization())\n",
    "# model.add(Dropout(0.2))\n",
    "\n",
    "# model.add(Conv3D(256, kernel_size=(1, 3, 3), activation='relu'))\n",
    "# model.add(MaxPooling3D(pool_size=(1, 2, 2)))\n",
    "# model.add(BatchNormalization())\n",
    "# model.add(Dropout(0.2))\n",
    "\n",
    "# model.add(GlobalAveragePooling3D())\n",
    "# model.add(Dense(512, activation='relu'))\n",
    "# model.add(BatchNormalization())\n",
    "# model.add(Dense(5, activation='softmax'))"
   ]
  },
  {
   "cell_type": "code",
   "execution_count": 52,
   "metadata": {},
   "outputs": [],
   "source": [
    "### Experiment 3\n",
    "# model = Sequential()\n",
    "# model.add(TimeDistributed(\n",
    "#     Conv2D(32, (3,3), activation='relu'), input_shape=input_shape)\n",
    "# )\n",
    "# model.add(TimeDistributed(\n",
    "#     MaxPooling2D((2,2)))\n",
    "# )\n",
    "# model.add(BatchNormalization())\n",
    "\n",
    "# model.add(TimeDistributed(\n",
    "#     Conv2D(64, (3,3), activation='relu'))\n",
    "# )\n",
    "# model.add(TimeDistributed(\n",
    "#     MaxPooling2D((2,2)))\n",
    "# )\n",
    "# model.add(BatchNormalization())\n",
    "\n",
    "# model.add(TimeDistributed(GlobalAveragePooling2D()))\n",
    "# model.add(TimeDistributed(Dense(64, activation='relu')))\n",
    "# model.add(BatchNormalization())\n",
    "\n",
    "# model.add(GRU(128))\n",
    "# model.add(BatchNormalization())\n",
    "# model.add(Dense(5, activation='softmax'))"
   ]
  },
  {
   "cell_type": "code",
   "execution_count": 53,
   "metadata": {},
   "outputs": [],
   "source": [
    "### Experiment 4\n",
    "# model = Sequential()\n",
    "# model.add(TimeDistributed(\n",
    "#     Conv2D(32, (3,3), activation='relu'), input_shape=input_shape)\n",
    "# )\n",
    "# model.add(TimeDistributed(\n",
    "#     MaxPooling2D((2,2)))\n",
    "# )\n",
    "# model.add(BatchNormalization())\n",
    "# model.add(Dropout(0.2))\n",
    "\n",
    "# model.add(TimeDistributed(\n",
    "#     Conv2D(64, (3,3), activation='relu'))\n",
    "# )\n",
    "# model.add(TimeDistributed(\n",
    "#     MaxPooling2D((2,2)))\n",
    "# )\n",
    "# model.add(BatchNormalization())\n",
    "# model.add(Dropout(0.2))\n",
    "\n",
    "# model.add(TimeDistributed(GlobalAveragePooling2D()))\n",
    "# model.add(TimeDistributed(Dense(64, activation='relu')))\n",
    "# model.add(BatchNormalization())\n",
    "# model.add(Dropout(0.2))\n",
    "\n",
    "# model.add(GRU(128))\n",
    "# model.add(BatchNormalization())\n",
    "# model.add(Dense(5, activation='softmax'))"
   ]
  },
  {
   "cell_type": "code",
   "execution_count": 54,
   "metadata": {},
   "outputs": [],
   "source": [
    "### Experiment 5 - Final Model\n",
    "model = Sequential()\n",
    "model.add(TimeDistributed(Conv2D(8, (3,3), activation='relu'), input_shape=input_shape))\n",
    "model.add(BatchNormalization())\n",
    "model.add(TimeDistributed(Conv2D(16, (3,3), activation='relu')))\n",
    "model.add(BatchNormalization())\n",
    "model.add(ConvLSTM2D(8, kernel_size = 3, return_sequences=False))\n",
    "model.add(BatchNormalization())\n",
    "model.add(TimeDistributed(\n",
    "Dense(64, activation='relu')))\n",
    "model.add(BatchNormalization())\n",
    "model.add(GlobalAveragePooling2D())\n",
    "model.add(Dense(64, activation='relu'))\n",
    "model.add(Dense(5, activation='softmax'))"
   ]
  },
  {
   "cell_type": "markdown",
   "metadata": {},
   "source": [
    "Now that you have written the model, the next step is to `compile` the model. When you print the `summary` of the model, you'll see the total number of parameters you have to train."
   ]
  },
  {
   "cell_type": "code",
   "execution_count": 55,
   "metadata": {
    "scrolled": true
   },
   "outputs": [
    {
     "name": "stdout",
     "output_type": "stream",
     "text": [
      "Model: \"sequential_4\"\n",
      "_________________________________________________________________\n",
      " Layer (type)                Output Shape              Param #   \n",
      "=================================================================\n",
      " time_distributed_6 (TimeDis  (None, 10, 118, 118, 8)  224       \n",
      " tributed)                                                       \n",
      "                                                                 \n",
      " batch_normalization_3 (Batc  (None, 10, 118, 118, 8)  32        \n",
      " hNormalization)                                                 \n",
      "                                                                 \n",
      " time_distributed_7 (TimeDis  (None, 10, 116, 116, 16)  1168     \n",
      " tributed)                                                       \n",
      "                                                                 \n",
      " batch_normalization_4 (Batc  (None, 10, 116, 116, 16)  64       \n",
      " hNormalization)                                                 \n",
      "                                                                 \n",
      " conv_lstm2d (ConvLSTM2D)    (None, 114, 114, 8)       6944      \n",
      "                                                                 \n",
      " batch_normalization_5 (Batc  (None, 114, 114, 8)      32        \n",
      " hNormalization)                                                 \n",
      "                                                                 \n",
      " time_distributed_8 (TimeDis  (None, 114, 114, 64)     576       \n",
      " tributed)                                                       \n",
      "                                                                 \n",
      " batch_normalization_6 (Batc  (None, 114, 114, 64)     256       \n",
      " hNormalization)                                                 \n",
      "                                                                 \n",
      " global_average_pooling2d (G  (None, 64)               0         \n",
      " lobalAveragePooling2D)                                          \n",
      "                                                                 \n",
      " dense_1 (Dense)             (None, 64)                4160      \n",
      "                                                                 \n",
      " dense_2 (Dense)             (None, 5)                 325       \n",
      "                                                                 \n",
      "=================================================================\n",
      "Total params: 13,781\n",
      "Trainable params: 13,589\n",
      "Non-trainable params: 192\n",
      "_________________________________________________________________\n",
      "None\n"
     ]
    }
   ],
   "source": [
    "optimiser = optimizers.Adam(lr=0.01)\n",
    "model.compile(optimizer=optimiser, loss='categorical_crossentropy', metrics=['categorical_accuracy'])\n",
    "print (model.summary())"
   ]
  },
  {
   "cell_type": "markdown",
   "metadata": {},
   "source": [
    "Let us create the `train_generator` and the `val_generator` which will be used in `.fit_generator`."
   ]
  },
  {
   "cell_type": "code",
   "execution_count": 56,
   "metadata": {},
   "outputs": [],
   "source": [
    "train_generator = generator(train_path, train_doc, batch_size)\n",
    "val_generator = generator(val_path, val_doc, batch_size)"
   ]
  },
  {
   "cell_type": "code",
   "execution_count": 57,
   "metadata": {},
   "outputs": [
    {
     "name": "stdout",
     "output_type": "stream",
     "text": [
      "WARNING:tensorflow:`period` argument is deprecated. Please use `save_freq` to specify the frequency in number of batches seen.\n"
     ]
    }
   ],
   "source": [
    "model_name = 'model_init' + '_' + str(curr_dt_time).replace(' ','').replace(':','_') + '/'\n",
    "    \n",
    "if not os.path.exists(model_name):\n",
    "    os.mkdir(model_name)\n",
    "        \n",
    "filepath = model_name + 'model-{epoch:05d}-{loss:.5f}-{categorical_accuracy:.5f}-{val_loss:.5f}-{val_categorical_accuracy:.5f}.h5'\n",
    "\n",
    "checkpoint = ModelCheckpoint(filepath, monitor='val_loss', verbose=1, save_best_only=False, save_weights_only=False, mode='auto', period=1)\n",
    "\n",
    "#LR = ReduceLROnPlateau(monitor='val_loss', factor=0.2, patience=5, min_lr=0.01) # write the REducelronplateau code here\n",
    "LR = ReduceLROnPlateau(monitor='val_loss', factor=0.2, patience=5, min_lr=0.001, verbose=1)\n",
    "\n",
    "callbacks_list = [checkpoint, LR]"
   ]
  },
  {
   "cell_type": "markdown",
   "metadata": {},
   "source": [
    "The `steps_per_epoch` and `validation_steps` are used by `fit_generator` to decide the number of next() calls it need to make."
   ]
  },
  {
   "cell_type": "code",
   "execution_count": 58,
   "metadata": {},
   "outputs": [],
   "source": [
    "if (num_train_sequences%batch_size) == 0:\n",
    "    steps_per_epoch = int(num_train_sequences/batch_size)\n",
    "else:\n",
    "    steps_per_epoch = (num_train_sequences//batch_size) + 1\n",
    "\n",
    "if (num_val_sequences%batch_size) == 0:\n",
    "    validation_steps = int(num_val_sequences/batch_size)\n",
    "else:\n",
    "    validation_steps = (num_val_sequences//batch_size) + 1"
   ]
  },
  {
   "cell_type": "markdown",
   "metadata": {},
   "source": [
    "Let us now fit the model. This will start training the model and with the help of the checkpoints, you'll be able to save the model at the end of each epoch."
   ]
  },
  {
   "cell_type": "code",
   "execution_count": 59,
   "metadata": {},
   "outputs": [
    {
     "name": "stdout",
     "output_type": "stream",
     "text": [
      "Source path =  Project_data/train ; batch size = 64\n",
      "11/11 [==============================] - ETA: 0s - loss: 1.3232 - categorical_accuracy: 0.4525 Source path =  Project_data/val ; batch size = 64\n",
      "\n",
      "Epoch 1: saving model to model_init_2024-01-0116_30_06.270504\\model-00001-1.32321-0.45249-1.72038-0.23000.h5\n",
      "11/11 [==============================] - 196s 18s/step - loss: 1.3232 - categorical_accuracy: 0.4525 - val_loss: 1.7204 - val_categorical_accuracy: 0.2300 - lr: 0.0100\n"
     ]
    },
    {
     "data": {
      "text/plain": [
       "<keras.callbacks.History at 0x1d4629e0eb0>"
      ]
     },
     "execution_count": 59,
     "metadata": {},
     "output_type": "execute_result"
    }
   ],
   "source": [
    "model.fit_generator(train_generator, steps_per_epoch=steps_per_epoch, epochs=1, verbose=1, \n",
    "                    callbacks=callbacks_list, validation_data=val_generator, \n",
    "                    validation_steps=validation_steps, class_weight=None, workers=1, initial_epoch=0)"
   ]
  },
  {
   "cell_type": "code",
   "execution_count": 61,
   "metadata": {},
   "outputs": [
    {
     "name": "stdout",
     "output_type": "stream",
     "text": [
      "Epoch 1/50\n",
      "11/11 [==============================] - ETA: 0s - loss: 0.1624 - categorical_accuracy: 0.9321\n",
      "Epoch 1: saving model to model_init_2024-01-0116_30_06.270504\\model-00001-0.16245-0.93213-1.30593-0.47000.h5\n",
      "11/11 [==============================] - 84s 8s/step - loss: 0.1624 - categorical_accuracy: 0.9321 - val_loss: 1.3059 - val_categorical_accuracy: 0.4700 - lr: 0.0100\n",
      "Epoch 2/50\n",
      "11/11 [==============================] - ETA: 0s - loss: 0.1868 - categorical_accuracy: 0.9336\n",
      "Epoch 2: saving model to model_init_2024-01-0116_30_06.270504\\model-00002-0.18678-0.93363-1.55169-0.48000.h5\n",
      "11/11 [==============================] - 92s 9s/step - loss: 0.1868 - categorical_accuracy: 0.9336 - val_loss: 1.5517 - val_categorical_accuracy: 0.4800 - lr: 0.0100\n",
      "Epoch 3/50\n",
      "11/11 [==============================] - ETA: 0s - loss: 0.1394 - categorical_accuracy: 0.9457\n",
      "Epoch 3: saving model to model_init_2024-01-0116_30_06.270504\\model-00003-0.13935-0.94570-0.80635-0.71000.h5\n",
      "11/11 [==============================] - 106s 10s/step - loss: 0.1394 - categorical_accuracy: 0.9457 - val_loss: 0.8064 - val_categorical_accuracy: 0.7100 - lr: 0.0100\n",
      "Epoch 4/50\n",
      "11/11 [==============================] - ETA: 0s - loss: 0.1002 - categorical_accuracy: 0.9623\n",
      "Epoch 4: saving model to model_init_2024-01-0116_30_06.270504\\model-00004-0.10016-0.96229-2.48127-0.35000.h5\n",
      "11/11 [==============================] - 98s 9s/step - loss: 0.1002 - categorical_accuracy: 0.9623 - val_loss: 2.4813 - val_categorical_accuracy: 0.3500 - lr: 0.0100\n",
      "Epoch 5/50\n",
      "11/11 [==============================] - ETA: 0s - loss: 0.0722 - categorical_accuracy: 0.9774\n",
      "Epoch 5: saving model to model_init_2024-01-0116_30_06.270504\\model-00005-0.07216-0.97738-1.51055-0.58000.h5\n",
      "11/11 [==============================] - 102s 10s/step - loss: 0.0722 - categorical_accuracy: 0.9774 - val_loss: 1.5105 - val_categorical_accuracy: 0.5800 - lr: 0.0100\n",
      "Epoch 6/50\n",
      "11/11 [==============================] - ETA: 0s - loss: 0.0580 - categorical_accuracy: 0.9834\n",
      "Epoch 6: saving model to model_init_2024-01-0116_30_06.270504\\model-00006-0.05799-0.98341-1.45941-0.61000.h5\n",
      "11/11 [==============================] - 98s 10s/step - loss: 0.0580 - categorical_accuracy: 0.9834 - val_loss: 1.4594 - val_categorical_accuracy: 0.6100 - lr: 0.0100\n",
      "Epoch 7/50\n",
      "11/11 [==============================] - ETA: 0s - loss: 0.0732 - categorical_accuracy: 0.9713\n",
      "Epoch 7: saving model to model_init_2024-01-0116_30_06.270504\\model-00007-0.07324-0.97134-2.00056-0.52000.h5\n",
      "11/11 [==============================] - 107s 10s/step - loss: 0.0732 - categorical_accuracy: 0.9713 - val_loss: 2.0006 - val_categorical_accuracy: 0.5200 - lr: 0.0100\n",
      "Epoch 8/50\n",
      "11/11 [==============================] - ETA: 0s - loss: 0.1174 - categorical_accuracy: 0.9563\n",
      "Epoch 8: saving model to model_init_2024-01-0116_30_06.270504\\model-00008-0.11737-0.95626-1.17265-0.67000.h5\n",
      "\n",
      "Epoch 8: ReduceLROnPlateau reducing learning rate to 0.0019999999552965165.\n",
      "11/11 [==============================] - 109s 10s/step - loss: 0.1174 - categorical_accuracy: 0.9563 - val_loss: 1.1727 - val_categorical_accuracy: 0.6700 - lr: 0.0100\n",
      "Epoch 9/50\n",
      "11/11 [==============================] - ETA: 0s - loss: 0.0999 - categorical_accuracy: 0.9638\n",
      "Epoch 9: saving model to model_init_2024-01-0116_30_06.270504\\model-00009-0.09987-0.96380-1.22673-0.67000.h5\n",
      "11/11 [==============================] - 106s 10s/step - loss: 0.0999 - categorical_accuracy: 0.9638 - val_loss: 1.2267 - val_categorical_accuracy: 0.6700 - lr: 0.0020\n",
      "Epoch 10/50\n",
      "11/11 [==============================] - ETA: 0s - loss: 0.0337 - categorical_accuracy: 0.9910\n",
      "Epoch 10: saving model to model_init_2024-01-0116_30_06.270504\\model-00010-0.03370-0.99095-0.86051-0.71000.h5\n",
      "11/11 [==============================] - 99s 9s/step - loss: 0.0337 - categorical_accuracy: 0.9910 - val_loss: 0.8605 - val_categorical_accuracy: 0.7100 - lr: 0.0020\n",
      "Epoch 11/50\n",
      "11/11 [==============================] - ETA: 0s - loss: 0.0269 - categorical_accuracy: 0.9955\n",
      "Epoch 11: saving model to model_init_2024-01-0116_30_06.270504\\model-00011-0.02687-0.99548-0.56532-0.80000.h5\n",
      "11/11 [==============================] - 100s 10s/step - loss: 0.0269 - categorical_accuracy: 0.9955 - val_loss: 0.5653 - val_categorical_accuracy: 0.8000 - lr: 0.0020\n",
      "Epoch 12/50\n",
      "11/11 [==============================] - ETA: 0s - loss: 0.0179 - categorical_accuracy: 1.0000\n",
      "Epoch 12: saving model to model_init_2024-01-0116_30_06.270504\\model-00012-0.01794-1.00000-0.50299-0.80000.h5\n",
      "11/11 [==============================] - 98s 9s/step - loss: 0.0179 - categorical_accuracy: 1.0000 - val_loss: 0.5030 - val_categorical_accuracy: 0.8000 - lr: 0.0020\n",
      "Epoch 13/50\n",
      "11/11 [==============================] - ETA: 0s - loss: 0.0148 - categorical_accuracy: 1.0000\n",
      "Epoch 13: saving model to model_init_2024-01-0116_30_06.270504\\model-00013-0.01475-1.00000-0.43744-0.83000.h5\n",
      "11/11 [==============================] - 101s 10s/step - loss: 0.0148 - categorical_accuracy: 1.0000 - val_loss: 0.4374 - val_categorical_accuracy: 0.8300 - lr: 0.0020\n",
      "Epoch 14/50\n",
      "11/11 [==============================] - ETA: 0s - loss: 0.0160 - categorical_accuracy: 1.0000\n",
      "Epoch 14: saving model to model_init_2024-01-0116_30_06.270504\\model-00014-0.01601-1.00000-0.44783-0.84000.h5\n",
      "11/11 [==============================] - 105s 10s/step - loss: 0.0160 - categorical_accuracy: 1.0000 - val_loss: 0.4478 - val_categorical_accuracy: 0.8400 - lr: 0.0020\n",
      "Epoch 15/50\n",
      "11/11 [==============================] - ETA: 0s - loss: 0.0108 - categorical_accuracy: 1.0000\n",
      "Epoch 15: saving model to model_init_2024-01-0116_30_06.270504\\model-00015-0.01077-1.00000-0.45603-0.85000.h5\n",
      "11/11 [==============================] - 104s 10s/step - loss: 0.0108 - categorical_accuracy: 1.0000 - val_loss: 0.4560 - val_categorical_accuracy: 0.8500 - lr: 0.0020\n",
      "Epoch 16/50\n",
      "11/11 [==============================] - ETA: 0s - loss: 0.0146 - categorical_accuracy: 1.0000\n",
      "Epoch 16: saving model to model_init_2024-01-0116_30_06.270504\\model-00016-0.01457-1.00000-0.42285-0.86000.h5\n",
      "11/11 [==============================] - 103s 10s/step - loss: 0.0146 - categorical_accuracy: 1.0000 - val_loss: 0.4229 - val_categorical_accuracy: 0.8600 - lr: 0.0020\n",
      "Epoch 17/50\n",
      "11/11 [==============================] - ETA: 0s - loss: 0.0107 - categorical_accuracy: 1.0000\n",
      "Epoch 17: saving model to model_init_2024-01-0116_30_06.270504\\model-00017-0.01073-1.00000-0.25906-0.88000.h5\n",
      "11/11 [==============================] - 111s 11s/step - loss: 0.0107 - categorical_accuracy: 1.0000 - val_loss: 0.2591 - val_categorical_accuracy: 0.8800 - lr: 0.0020\n",
      "Epoch 18/50\n",
      "11/11 [==============================] - ETA: 0s - loss: 0.0116 - categorical_accuracy: 1.0000\n",
      "Epoch 18: saving model to model_init_2024-01-0116_30_06.270504\\model-00018-0.01161-1.00000-0.37720-0.83000.h5\n",
      "11/11 [==============================] - 99s 10s/step - loss: 0.0116 - categorical_accuracy: 1.0000 - val_loss: 0.3772 - val_categorical_accuracy: 0.8300 - lr: 0.0020\n",
      "Epoch 19/50\n",
      "11/11 [==============================] - ETA: 0s - loss: 0.0101 - categorical_accuracy: 1.0000\n",
      "Epoch 19: saving model to model_init_2024-01-0116_30_06.270504\\model-00019-0.01010-1.00000-0.48315-0.82000.h5\n",
      "11/11 [==============================] - 103s 10s/step - loss: 0.0101 - categorical_accuracy: 1.0000 - val_loss: 0.4831 - val_categorical_accuracy: 0.8200 - lr: 0.0020\n",
      "Epoch 20/50\n",
      "11/11 [==============================] - ETA: 0s - loss: 0.0062 - categorical_accuracy: 1.0000\n",
      "Epoch 20: saving model to model_init_2024-01-0116_30_06.270504\\model-00020-0.00618-1.00000-0.38466-0.85000.h5\n",
      "11/11 [==============================] - 98s 9s/step - loss: 0.0062 - categorical_accuracy: 1.0000 - val_loss: 0.3847 - val_categorical_accuracy: 0.8500 - lr: 0.0020\n",
      "Epoch 21/50\n",
      "11/11 [==============================] - ETA: 0s - loss: 0.0082 - categorical_accuracy: 0.9985\n",
      "Epoch 21: saving model to model_init_2024-01-0116_30_06.270504\\model-00021-0.00819-0.99849-0.51385-0.80000.h5\n",
      "11/11 [==============================] - 97s 9s/step - loss: 0.0082 - categorical_accuracy: 0.9985 - val_loss: 0.5138 - val_categorical_accuracy: 0.8000 - lr: 0.0020\n",
      "Epoch 22/50\n"
     ]
    },
    {
     "name": "stdout",
     "output_type": "stream",
     "text": [
      "11/11 [==============================] - ETA: 0s - loss: 0.0144 - categorical_accuracy: 0.9970\n",
      "Epoch 22: saving model to model_init_2024-01-0116_30_06.270504\\model-00022-0.01440-0.99698-0.44037-0.86000.h5\n",
      "\n",
      "Epoch 22: ReduceLROnPlateau reducing learning rate to 0.001.\n",
      "11/11 [==============================] - 100s 9s/step - loss: 0.0144 - categorical_accuracy: 0.9970 - val_loss: 0.4404 - val_categorical_accuracy: 0.8600 - lr: 0.0020\n",
      "Epoch 23/50\n",
      "11/11 [==============================] - ETA: 0s - loss: 0.0110 - categorical_accuracy: 1.0000\n",
      "Epoch 23: saving model to model_init_2024-01-0116_30_06.270504\\model-00023-0.01103-1.00000-0.34152-0.89000.h5\n",
      "11/11 [==============================] - 108s 10s/step - loss: 0.0110 - categorical_accuracy: 1.0000 - val_loss: 0.3415 - val_categorical_accuracy: 0.8900 - lr: 0.0010\n",
      "Epoch 24/50\n",
      "11/11 [==============================] - ETA: 0s - loss: 0.0112 - categorical_accuracy: 1.0000\n",
      "Epoch 24: saving model to model_init_2024-01-0116_30_06.270504\\model-00024-0.01119-1.00000-0.37260-0.85000.h5\n",
      "11/11 [==============================] - 100s 10s/step - loss: 0.0112 - categorical_accuracy: 1.0000 - val_loss: 0.3726 - val_categorical_accuracy: 0.8500 - lr: 0.0010\n",
      "Epoch 25/50\n",
      "11/11 [==============================] - ETA: 0s - loss: 0.0081 - categorical_accuracy: 1.0000\n",
      "Epoch 25: saving model to model_init_2024-01-0116_30_06.270504\\model-00025-0.00814-1.00000-0.37928-0.88000.h5\n",
      "11/11 [==============================] - 102s 10s/step - loss: 0.0081 - categorical_accuracy: 1.0000 - val_loss: 0.3793 - val_categorical_accuracy: 0.8800 - lr: 0.0010\n",
      "Epoch 26/50\n",
      "11/11 [==============================] - ETA: 0s - loss: 0.0076 - categorical_accuracy: 1.0000\n",
      "Epoch 26: saving model to model_init_2024-01-0116_30_06.270504\\model-00026-0.00756-1.00000-0.37040-0.87000.h5\n",
      "11/11 [==============================] - 99s 9s/step - loss: 0.0076 - categorical_accuracy: 1.0000 - val_loss: 0.3704 - val_categorical_accuracy: 0.8700 - lr: 0.0010\n",
      "Epoch 27/50\n",
      "11/11 [==============================] - ETA: 0s - loss: 0.0053 - categorical_accuracy: 1.0000\n",
      "Epoch 27: saving model to model_init_2024-01-0116_30_06.270504\\model-00027-0.00529-1.00000-0.30903-0.90000.h5\n",
      "11/11 [==============================] - 124s 12s/step - loss: 0.0053 - categorical_accuracy: 1.0000 - val_loss: 0.3090 - val_categorical_accuracy: 0.9000 - lr: 0.0010\n",
      "Epoch 28/50\n",
      "11/11 [==============================] - ETA: 0s - loss: 0.0075 - categorical_accuracy: 1.0000\n",
      "Epoch 28: saving model to model_init_2024-01-0116_30_06.270504\\model-00028-0.00748-1.00000-0.34780-0.87000.h5\n",
      "11/11 [==============================] - 117s 11s/step - loss: 0.0075 - categorical_accuracy: 1.0000 - val_loss: 0.3478 - val_categorical_accuracy: 0.8700 - lr: 0.0010\n",
      "Epoch 29/50\n",
      "11/11 [==============================] - ETA: 0s - loss: 0.0109 - categorical_accuracy: 0.9955\n",
      "Epoch 29: saving model to model_init_2024-01-0116_30_06.270504\\model-00029-0.01089-0.99548-0.41519-0.86000.h5\n",
      "11/11 [==============================] - 102s 10s/step - loss: 0.0109 - categorical_accuracy: 0.9955 - val_loss: 0.4152 - val_categorical_accuracy: 0.8600 - lr: 0.0010\n",
      "Epoch 30/50\n",
      "11/11 [==============================] - ETA: 0s - loss: 0.0106 - categorical_accuracy: 0.9985\n",
      "Epoch 30: saving model to model_init_2024-01-0116_30_06.270504\\model-00030-0.01057-0.99849-0.34478-0.90000.h5\n",
      "11/11 [==============================] - 100s 9s/step - loss: 0.0106 - categorical_accuracy: 0.9985 - val_loss: 0.3448 - val_categorical_accuracy: 0.9000 - lr: 0.0010\n",
      "Epoch 31/50\n",
      "11/11 [==============================] - ETA: 0s - loss: 0.0081 - categorical_accuracy: 1.0000\n",
      "Epoch 31: saving model to model_init_2024-01-0116_30_06.270504\\model-00031-0.00811-1.00000-0.33757-0.88000.h5\n",
      "11/11 [==============================] - 101s 10s/step - loss: 0.0081 - categorical_accuracy: 1.0000 - val_loss: 0.3376 - val_categorical_accuracy: 0.8800 - lr: 0.0010\n",
      "Epoch 32/50\n",
      "11/11 [==============================] - ETA: 0s - loss: 0.0072 - categorical_accuracy: 1.0000\n",
      "Epoch 32: saving model to model_init_2024-01-0116_30_06.270504\\model-00032-0.00723-1.00000-0.33695-0.89000.h5\n",
      "11/11 [==============================] - 103s 10s/step - loss: 0.0072 - categorical_accuracy: 1.0000 - val_loss: 0.3370 - val_categorical_accuracy: 0.8900 - lr: 0.0010\n",
      "Epoch 33/50\n",
      "11/11 [==============================] - ETA: 0s - loss: 0.0047 - categorical_accuracy: 1.0000\n",
      "Epoch 33: saving model to model_init_2024-01-0116_30_06.270504\\model-00033-0.00472-1.00000-0.28643-0.88000.h5\n",
      "11/11 [==============================] - 93s 9s/step - loss: 0.0047 - categorical_accuracy: 1.0000 - val_loss: 0.2864 - val_categorical_accuracy: 0.8800 - lr: 0.0010\n",
      "Epoch 34/50\n",
      "11/11 [==============================] - ETA: 0s - loss: 0.0092 - categorical_accuracy: 0.9985\n",
      "Epoch 34: saving model to model_init_2024-01-0116_30_06.270504\\model-00034-0.00922-0.99849-0.33928-0.90000.h5\n",
      "11/11 [==============================] - 99s 9s/step - loss: 0.0092 - categorical_accuracy: 0.9985 - val_loss: 0.3393 - val_categorical_accuracy: 0.9000 - lr: 0.0010\n",
      "Epoch 35/50\n",
      "11/11 [==============================] - ETA: 0s - loss: 0.0051 - categorical_accuracy: 1.0000\n",
      "Epoch 35: saving model to model_init_2024-01-0116_30_06.270504\\model-00035-0.00507-1.00000-0.19908-0.91000.h5\n",
      "11/11 [==============================] - 95s 9s/step - loss: 0.0051 - categorical_accuracy: 1.0000 - val_loss: 0.1991 - val_categorical_accuracy: 0.9100 - lr: 0.0010\n",
      "Epoch 36/50\n",
      "11/11 [==============================] - ETA: 0s - loss: 0.0064 - categorical_accuracy: 1.0000\n",
      "Epoch 36: saving model to model_init_2024-01-0116_30_06.270504\\model-00036-0.00636-1.00000-0.30806-0.89000.h5\n",
      "11/11 [==============================] - 96s 9s/step - loss: 0.0064 - categorical_accuracy: 1.0000 - val_loss: 0.3081 - val_categorical_accuracy: 0.8900 - lr: 0.0010\n",
      "Epoch 37/50\n",
      "11/11 [==============================] - ETA: 0s - loss: 0.0055 - categorical_accuracy: 1.0000\n",
      "Epoch 37: saving model to model_init_2024-01-0116_30_06.270504\\model-00037-0.00546-1.00000-0.37182-0.87000.h5\n",
      "11/11 [==============================] - 95s 9s/step - loss: 0.0055 - categorical_accuracy: 1.0000 - val_loss: 0.3718 - val_categorical_accuracy: 0.8700 - lr: 0.0010\n",
      "Epoch 38/50\n",
      "11/11 [==============================] - ETA: 0s - loss: 0.0056 - categorical_accuracy: 1.0000\n",
      "Epoch 38: saving model to model_init_2024-01-0116_30_06.270504\\model-00038-0.00564-1.00000-0.29329-0.91000.h5\n",
      "11/11 [==============================] - 97s 9s/step - loss: 0.0056 - categorical_accuracy: 1.0000 - val_loss: 0.2933 - val_categorical_accuracy: 0.9100 - lr: 0.0010\n",
      "Epoch 39/50\n",
      "11/11 [==============================] - ETA: 0s - loss: 0.0041 - categorical_accuracy: 1.0000\n",
      "Epoch 39: saving model to model_init_2024-01-0116_30_06.270504\\model-00039-0.00407-1.00000-0.29219-0.90000.h5\n",
      "11/11 [==============================] - 94s 9s/step - loss: 0.0041 - categorical_accuracy: 1.0000 - val_loss: 0.2922 - val_categorical_accuracy: 0.9000 - lr: 0.0010\n",
      "Epoch 40/50\n",
      "11/11 [==============================] - ETA: 0s - loss: 0.0095 - categorical_accuracy: 0.9970\n",
      "Epoch 40: saving model to model_init_2024-01-0116_30_06.270504\\model-00040-0.00949-0.99698-0.29337-0.91000.h5\n",
      "11/11 [==============================] - 98s 9s/step - loss: 0.0095 - categorical_accuracy: 0.9970 - val_loss: 0.2934 - val_categorical_accuracy: 0.9100 - lr: 0.0010\n",
      "Epoch 41/50\n",
      "11/11 [==============================] - ETA: 0s - loss: 0.0045 - categorical_accuracy: 1.0000\n",
      "Epoch 41: saving model to model_init_2024-01-0116_30_06.270504\\model-00041-0.00450-1.00000-0.32242-0.90000.h5\n",
      "11/11 [==============================] - 101s 10s/step - loss: 0.0045 - categorical_accuracy: 1.0000 - val_loss: 0.3224 - val_categorical_accuracy: 0.9000 - lr: 0.0010\n",
      "Epoch 42/50\n",
      "11/11 [==============================] - ETA: 0s - loss: 0.0050 - categorical_accuracy: 1.0000\n",
      "Epoch 42: saving model to model_init_2024-01-0116_30_06.270504\\model-00042-0.00504-1.00000-0.29545-0.93000.h5\n",
      "11/11 [==============================] - 95s 9s/step - loss: 0.0050 - categorical_accuracy: 1.0000 - val_loss: 0.2954 - val_categorical_accuracy: 0.9300 - lr: 0.0010\n",
      "Epoch 43/50\n"
     ]
    },
    {
     "name": "stdout",
     "output_type": "stream",
     "text": [
      "11/11 [==============================] - ETA: 0s - loss: 0.0058 - categorical_accuracy: 1.0000\n",
      "Epoch 43: saving model to model_init_2024-01-0116_30_06.270504\\model-00043-0.00576-1.00000-0.29923-0.90000.h5\n",
      "11/11 [==============================] - 92s 9s/step - loss: 0.0058 - categorical_accuracy: 1.0000 - val_loss: 0.2992 - val_categorical_accuracy: 0.9000 - lr: 0.0010\n",
      "Epoch 44/50\n",
      "11/11 [==============================] - ETA: 0s - loss: 0.0077 - categorical_accuracy: 0.9985\n",
      "Epoch 44: saving model to model_init_2024-01-0116_30_06.270504\\model-00044-0.00768-0.99849-0.26989-0.92000.h5\n",
      "11/11 [==============================] - 115s 11s/step - loss: 0.0077 - categorical_accuracy: 0.9985 - val_loss: 0.2699 - val_categorical_accuracy: 0.9200 - lr: 0.0010\n",
      "Epoch 45/50\n",
      "11/11 [==============================] - ETA: 0s - loss: 0.0093 - categorical_accuracy: 0.9970\n",
      "Epoch 45: saving model to model_init_2024-01-0116_30_06.270504\\model-00045-0.00927-0.99698-0.41511-0.90000.h5\n",
      "11/11 [==============================] - 120s 11s/step - loss: 0.0093 - categorical_accuracy: 0.9970 - val_loss: 0.4151 - val_categorical_accuracy: 0.9000 - lr: 0.0010\n",
      "Epoch 46/50\n",
      "11/11 [==============================] - ETA: 0s - loss: 0.0061 - categorical_accuracy: 1.0000 \n",
      "Epoch 46: saving model to model_init_2024-01-0116_30_06.270504\\model-00046-0.00611-1.00000-0.36156-0.90000.h5\n",
      "11/11 [==============================] - 126s 12s/step - loss: 0.0061 - categorical_accuracy: 1.0000 - val_loss: 0.3616 - val_categorical_accuracy: 0.9000 - lr: 0.0010\n",
      "Epoch 47/50\n",
      "11/11 [==============================] - ETA: 0s - loss: 0.0084 - categorical_accuracy: 0.9985\n",
      "Epoch 47: saving model to model_init_2024-01-0116_30_06.270504\\model-00047-0.00842-0.99849-0.36316-0.87000.h5\n",
      "11/11 [==============================] - 99s 9s/step - loss: 0.0084 - categorical_accuracy: 0.9985 - val_loss: 0.3632 - val_categorical_accuracy: 0.8700 - lr: 0.0010\n",
      "Epoch 48/50\n",
      "11/11 [==============================] - ETA: 0s - loss: 0.0078 - categorical_accuracy: 1.0000\n",
      "Epoch 48: saving model to model_init_2024-01-0116_30_06.270504\\model-00048-0.00777-1.00000-0.28037-0.90000.h5\n",
      "11/11 [==============================] - 89s 8s/step - loss: 0.0078 - categorical_accuracy: 1.0000 - val_loss: 0.2804 - val_categorical_accuracy: 0.9000 - lr: 0.0010\n",
      "Epoch 49/50\n",
      "11/11 [==============================] - ETA: 0s - loss: 0.0054 - categorical_accuracy: 1.0000\n",
      "Epoch 49: saving model to model_init_2024-01-0116_30_06.270504\\model-00049-0.00538-1.00000-0.27739-0.92000.h5\n",
      "11/11 [==============================] - 101s 10s/step - loss: 0.0054 - categorical_accuracy: 1.0000 - val_loss: 0.2774 - val_categorical_accuracy: 0.9200 - lr: 0.0010\n",
      "Epoch 50/50\n",
      "11/11 [==============================] - ETA: 0s - loss: 0.0072 - categorical_accuracy: 0.9985\n",
      "Epoch 50: saving model to model_init_2024-01-0116_30_06.270504\\model-00050-0.00721-0.99849-0.26534-0.91000.h5\n",
      "11/11 [==============================] - 103s 10s/step - loss: 0.0072 - categorical_accuracy: 0.9985 - val_loss: 0.2653 - val_categorical_accuracy: 0.9100 - lr: 0.0010\n"
     ]
    },
    {
     "data": {
      "text/plain": [
       "<keras.callbacks.History at 0x1d46282b6d0>"
      ]
     },
     "execution_count": 61,
     "metadata": {},
     "output_type": "execute_result"
    }
   ],
   "source": [
    "model.fit_generator(train_generator, steps_per_epoch=steps_per_epoch, epochs=num_epochs, verbose=1, \n",
    "                    callbacks=callbacks_list, validation_data=val_generator, \n",
    "                    validation_steps=validation_steps, class_weight=None, workers=1, initial_epoch=0)"
   ]
  },
  {
   "cell_type": "code",
   "execution_count": null,
   "metadata": {},
   "outputs": [],
   "source": []
  }
 ],
 "metadata": {
  "kernelspec": {
   "display_name": "Python 3 (ipykernel)",
   "language": "python",
   "name": "python3"
  },
  "language_info": {
   "codemirror_mode": {
    "name": "ipython",
    "version": 3
   },
   "file_extension": ".py",
   "mimetype": "text/x-python",
   "name": "python",
   "nbconvert_exporter": "python",
   "pygments_lexer": "ipython3",
   "version": "3.9.7"
  }
 },
 "nbformat": 4,
 "nbformat_minor": 2
}
